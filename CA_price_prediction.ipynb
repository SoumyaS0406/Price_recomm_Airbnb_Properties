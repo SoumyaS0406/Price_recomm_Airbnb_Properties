{
 "cells": [
  {
   "cell_type": "code",
   "execution_count": 24,
   "metadata": {
    "collapsed": true
   },
   "outputs": [],
   "source": [
    "import pandas as pd\n",
    "import numpy as np\n",
    "import sklearn\n",
    "import matplotlib.pyplot as plt\n",
    "import seaborn as sns\n",
    "pd.set_option(\"max_columns\", None)\n",
    "%matplotlib inline"
   ]
  },
  {
   "cell_type": "code",
   "execution_count": 25,
   "metadata": {
    "collapsed": true
   },
   "outputs": [],
   "source": [
    "listings = pd.read_csv('listings.csv',low_memory=False)\n",
    "calendar = pd.read_csv('calendar.csv',low_memory=False)\n",
    "reviews = pd.read_csv('reviews.csv',low_memory=False)"
   ]
  },
  {
   "cell_type": "code",
   "execution_count": 26,
   "metadata": {
    "collapsed": true
   },
   "outputs": [],
   "source": [
    "def check_all_missing_and_uniqueue(data):\n",
    "    drop_list =[]\n",
    "    for x in data.columns:\n",
    "        if data[x].nunique() == 1:\n",
    "            print(x,' : Has single unique value for all rows and can be dropped')\n",
    "            drop_list.append(x)\n",
    "        if data[x].nunique() == 0:\n",
    "            print(x,' : Has all blank rows and can be dropped')\n",
    "            drop_list.append(x)\n",
    "    return drop_list\n",
    "        \n",
    "            \n",
    "            \n",
    "            "
   ]
  },
  {
   "cell_type": "code",
   "execution_count": 27,
   "metadata": {
    "collapsed": true
   },
   "outputs": [],
   "source": [
    "def missing_values_percentage(data,threshold):\n",
    "    drop_list =[]\n",
    "    for x in data.columns:\n",
    "        if (data[x].count()/len(data)) <= threshold:\n",
    "            print(x,' Has more than ',threshold*100,' Percent missing values')\n",
    "            drop_list.append(x)\n",
    "    return drop_list\n",
    "        "
   ]
  },
  {
   "cell_type": "code",
   "execution_count": 28,
   "metadata": {
    "scrolled": true
   },
   "outputs": [
    {
     "name": "stdout",
     "output_type": "stream",
     "text": [
      "scrape_id  : Has single unique value for all rows and can be dropped\n",
      "last_scraped  : Has single unique value for all rows and can be dropped\n",
      "experiences_offered  : Has single unique value for all rows and can be dropped\n",
      "neighbourhood_group_cleansed  : Has all blank rows and can be dropped\n",
      "state  : Has single unique value for all rows and can be dropped\n",
      "country_code  : Has single unique value for all rows and can be dropped\n",
      "country  : Has single unique value for all rows and can be dropped\n",
      "has_availability  : Has all blank rows and can be dropped\n",
      "calendar_last_scraped  : Has single unique value for all rows and can be dropped\n",
      "requires_license  : Has single unique value for all rows and can be dropped\n",
      "license  : Has all blank rows and can be dropped\n",
      "jurisdiction_names  : Has all blank rows and can be dropped\n"
     ]
    }
   ],
   "source": [
    "drop_list = check_all_missing_and_uniqueue(listings)"
   ]
  },
  {
   "cell_type": "code",
   "execution_count": 29,
   "metadata": {
    "scrolled": true
   },
   "outputs": [
    {
     "name": "stdout",
     "output_type": "stream",
     "text": [
      "space  Has more than  80.0  Percent missing values\n",
      "neighborhood_overview  Has more than  80.0  Percent missing values\n",
      "notes  Has more than  80.0  Percent missing values\n",
      "transit  Has more than  80.0  Percent missing values\n",
      "access  Has more than  80.0  Percent missing values\n",
      "interaction  Has more than  80.0  Percent missing values\n",
      "house_rules  Has more than  80.0  Percent missing values\n",
      "host_about  Has more than  80.0  Percent missing values\n",
      "neighbourhood_group_cleansed  Has more than  80.0  Percent missing values\n",
      "square_feet  Has more than  80.0  Percent missing values\n",
      "weekly_price  Has more than  80.0  Percent missing values\n",
      "monthly_price  Has more than  80.0  Percent missing values\n",
      "security_deposit  Has more than  80.0  Percent missing values\n",
      "cleaning_fee  Has more than  80.0  Percent missing values\n",
      "has_availability  Has more than  80.0  Percent missing values\n",
      "first_review  Has more than  80.0  Percent missing values\n",
      "last_review  Has more than  80.0  Percent missing values\n",
      "review_scores_rating  Has more than  80.0  Percent missing values\n",
      "review_scores_accuracy  Has more than  80.0  Percent missing values\n",
      "review_scores_cleanliness  Has more than  80.0  Percent missing values\n",
      "review_scores_checkin  Has more than  80.0  Percent missing values\n",
      "review_scores_communication  Has more than  80.0  Percent missing values\n",
      "review_scores_location  Has more than  80.0  Percent missing values\n",
      "review_scores_value  Has more than  80.0  Percent missing values\n",
      "license  Has more than  80.0  Percent missing values\n",
      "jurisdiction_names  Has more than  80.0  Percent missing values\n",
      "reviews_per_month  Has more than  80.0  Percent missing values\n"
     ]
    }
   ],
   "source": [
    "drop_list2 =missing_values_percentage(listings,0.8)"
   ]
  },
  {
   "cell_type": "code",
   "execution_count": null,
   "metadata": {
    "collapsed": true
   },
   "outputs": [],
   "source": []
  },
  {
   "cell_type": "code",
   "execution_count": 30,
   "metadata": {},
   "outputs": [
    {
     "data": {
      "text/plain": [
       "[]"
      ]
     },
     "execution_count": 30,
     "metadata": {},
     "output_type": "execute_result"
    }
   ],
   "source": [
    "check_all_missing_and_uniqueue(reviews)"
   ]
  },
  {
   "cell_type": "code",
   "execution_count": 31,
   "metadata": {},
   "outputs": [
    {
     "data": {
      "text/plain": [
       "[]"
      ]
     },
     "execution_count": 31,
     "metadata": {},
     "output_type": "execute_result"
    }
   ],
   "source": [
    "check_all_missing_and_uniqueue(calendar)"
   ]
  },
  {
   "cell_type": "code",
   "execution_count": 32,
   "metadata": {},
   "outputs": [
    {
     "data": {
      "text/plain": [
       "[]"
      ]
     },
     "execution_count": 32,
     "metadata": {},
     "output_type": "execute_result"
    }
   ],
   "source": [
    "missing_values_percentage(reviews,0.8)"
   ]
  },
  {
   "cell_type": "code",
   "execution_count": 33,
   "metadata": {},
   "outputs": [
    {
     "name": "stdout",
     "output_type": "stream",
     "text": [
      "price  Has more than  80.0  Percent missing values\n"
     ]
    },
    {
     "data": {
      "text/plain": [
       "['price']"
      ]
     },
     "execution_count": 33,
     "metadata": {},
     "output_type": "execute_result"
    }
   ],
   "source": [
    "missing_values_percentage(calendar,0.8)"
   ]
  },
  {
   "cell_type": "code",
   "execution_count": 34,
   "metadata": {
    "collapsed": true
   },
   "outputs": [],
   "source": [
    "listings['price'] = listings['price'].map(lambda p: int(p[1:-3].replace(\",\", \"\")))\n",
    "listings['amenities'] = listings['amenities'].map(\n",
    "    lambda amns: \"|\".join([amn.replace(\"}\", \"\").replace(\"{\", \"\").replace('\"', \"\")\\\n",
    "                           for amn in amns.split(\",\")])\n",
    ")"
   ]
  },
  {
   "cell_type": "code",
   "execution_count": 35,
   "metadata": {},
   "outputs": [
    {
     "data": {
      "text/plain": [
       "{'',\n",
       " '24-Hour Check-in',\n",
       " 'Air Conditioning',\n",
       " 'Breakfast',\n",
       " 'Buzzer/Wireless Intercom',\n",
       " 'Cable TV',\n",
       " 'Carbon Monoxide Detector',\n",
       " 'Cat(s)',\n",
       " 'Dog(s)',\n",
       " 'Doorman',\n",
       " 'Dryer',\n",
       " 'Elevator in Building',\n",
       " 'Essentials',\n",
       " 'Family/Kid Friendly',\n",
       " 'Fire Extinguisher',\n",
       " 'First Aid Kit',\n",
       " 'Free Parking on Premises',\n",
       " 'Free Parking on Street',\n",
       " 'Gym',\n",
       " 'Hair Dryer',\n",
       " 'Hangers',\n",
       " 'Heating',\n",
       " 'Hot Tub',\n",
       " 'Indoor Fireplace',\n",
       " 'Internet',\n",
       " 'Iron',\n",
       " 'Kitchen',\n",
       " 'Laptop Friendly Workspace',\n",
       " 'Lock on Bedroom Door',\n",
       " 'Other pet(s)',\n",
       " 'Paid Parking Off Premises',\n",
       " 'Pets Allowed',\n",
       " 'Pets live on this property',\n",
       " 'Pool',\n",
       " 'Safety Card',\n",
       " 'Shampoo',\n",
       " 'Smoke Detector',\n",
       " 'Smoking Allowed',\n",
       " 'Suitable for Events',\n",
       " 'TV',\n",
       " 'Washer',\n",
       " 'Washer / Dryer',\n",
       " 'Wheelchair Accessible',\n",
       " 'Wireless Internet',\n",
       " 'translation missing: en.hosting_amenity_49',\n",
       " 'translation missing: en.hosting_amenity_50'}"
      ]
     },
     "execution_count": 35,
     "metadata": {},
     "output_type": "execute_result"
    }
   ],
   "source": [
    "set(np.concatenate(listings['amenities'].map(lambda amns: amns.split(\"|\")).values))"
   ]
  },
  {
   "cell_type": "code",
   "execution_count": 18,
   "metadata": {},
   "outputs": [
    {
     "data": {
      "text/plain": [
       "0       TV|Wireless Internet|Kitchen|Free Parking on P...\n",
       "1       TV|Internet|Wireless Internet|Air Conditioning...\n",
       "2       TV|Cable TV|Wireless Internet|Air Conditioning...\n",
       "3       TV|Internet|Wireless Internet|Air Conditioning...\n",
       "4       Internet|Wireless Internet|Air Conditioning|Ki...\n",
       "5       Cable TV|Wireless Internet|Air Conditioning|Ki...\n",
       "6       TV|Internet|Wireless Internet|Kitchen|Free Par...\n",
       "7       TV|Internet|Wireless Internet|Air Conditioning...\n",
       "8       Wireless Internet|Pets live on this property|C...\n",
       "9       TV|Cable TV|Internet|Wireless Internet|Air Con...\n",
       "10      TV|Wireless Internet|Air Conditioning|Kitchen|...\n",
       "11      TV|Cable TV|Internet|Wireless Internet|Air Con...\n",
       "12      Cable TV|Wireless Internet|Air Conditioning|Ki...\n",
       "13      TV|Internet|Wireless Internet|Air Conditioning...\n",
       "14      Internet|Wireless Internet|Kitchen|Free Parkin...\n",
       "15      TV|Internet|Wireless Internet|Air Conditioning...\n",
       "16      TV|Cable TV|Internet|Wireless Internet|Kitchen...\n",
       "17      TV|Wireless Internet|Air Conditioning|Kitchen|...\n",
       "18      Cable TV|Internet|Wireless Internet|Air Condit...\n",
       "19      TV|Internet|Wireless Internet|Air Conditioning...\n",
       "20      Internet|Wireless Internet|Air Conditioning|Ki...\n",
       "21      TV|Internet|Wireless Internet|Air Conditioning...\n",
       "22      TV|Internet|Wireless Internet|Air Conditioning...\n",
       "23      TV|Internet|Wireless Internet|Kitchen|Free Par...\n",
       "24      TV|Cable TV|Internet|Wireless Internet|Air Con...\n",
       "25      TV|Cable TV|Internet|Wireless Internet|Air Con...\n",
       "26      Internet|Wireless Internet|Air Conditioning|Ki...\n",
       "27      Wireless Internet|Free Parking on Premises|Hea...\n",
       "28      Internet|Wireless Internet|Air Conditioning|Ki...\n",
       "29      TV|Cable TV|Internet|Wireless Internet|Air Con...\n",
       "                              ...                        \n",
       "3555    Air Conditioning|Kitchen|Hot Tub|Indoor Firepl...\n",
       "3556    Wireless Internet|Kitchen|Free Parking on Prem...\n",
       "3557    Wireless Internet|Air Conditioning|Kitchen|Bre...\n",
       "3558    TV|Cable TV|Internet|Wireless Internet|Air Con...\n",
       "3559    TV|Internet|Wireless Internet|Air Conditioning...\n",
       "3560    Wireless Internet|Kitchen|Free Parking on Prem...\n",
       "3561    Internet|Wireless Internet|Pets live on this p...\n",
       "3562    TV|Internet|Wireless Internet|Air Conditioning...\n",
       "3563    TV|Cable TV|Internet|Wireless Internet|Air Con...\n",
       "3564    Internet|Wireless Internet|Kitchen|Free Parkin...\n",
       "3565    Wireless Internet|Kitchen|Free Parking on Prem...\n",
       "3566    TV|Wireless Internet|Air Conditioning|Heating|...\n",
       "3567    TV|Cable TV|Internet|Wireless Internet|Air Con...\n",
       "3568    Wireless Internet|Kitchen|Free Parking on Prem...\n",
       "3569    TV|Internet|Wireless Internet|Air Conditioning...\n",
       "3570    TV|Cable TV|Internet|Wireless Internet|Air Con...\n",
       "3571    Wireless Internet|Kitchen|Heating|Washer|Dryer...\n",
       "3572    TV|Cable TV|Internet|Wireless Internet|Air Con...\n",
       "3573    Wireless Internet|Kitchen|Essentials|translati...\n",
       "3574    Wireless Internet|Kitchen|Free Parking on Prem...\n",
       "3575    Internet|Wireless Internet|Air Conditioning|Ki...\n",
       "3576    Air Conditioning|Kitchen|Indoor Fireplace|Heat...\n",
       "3577    TV|Wireless Internet|Heating|Family/Kid Friend...\n",
       "3578    TV|Internet|Wireless Internet|Air Conditioning...\n",
       "3579    TV|Cable TV|Internet|Wireless Internet|Kitchen...\n",
       "3580    Internet|Wireless Internet|Air Conditioning|Ki...\n",
       "3581    TV|Internet|Wireless Internet|Air Conditioning...\n",
       "3582    translation missing: en.hosting_amenity_49|tra...\n",
       "3583    Kitchen|Gym|Family/Kid Friendly|Washer|Dryer|E...\n",
       "3584    Wireless Internet|Kitchen|Essentials|translati...\n",
       "Name: amenities, Length: 3585, dtype: object"
      ]
     },
     "execution_count": 18,
     "metadata": {},
     "output_type": "execute_result"
    }
   ],
   "source": []
  },
  {
   "cell_type": "code",
   "execution_count": 227,
   "metadata": {},
   "outputs": [
    {
     "data": {
      "text/plain": [
       "<matplotlib.axes._subplots.AxesSubplot at 0x209d312bd30>"
      ]
     },
     "execution_count": 227,
     "metadata": {},
     "output_type": "execute_result"
    },
    {
     "data": {
      "image/png": "[encoded data removed]",
      "text/plain": [
       "<matplotlib.figure.Figure at 0x209d694f940>"
      ]
     },
     "metadata": {},
     "output_type": "display_data"
    }
   ],
   "source": [
    "sns.distplot(np.log(listings.price))"
   ]
  },
  {
   "cell_type": "code",
   "execution_count": 228,
   "metadata": {
    "scrolled": true
   },
   "outputs": [
    {
     "data": {
      "text/plain": [
       "<matplotlib.axes._subplots.AxesSubplot at 0x209cd433518>"
      ]
     },
     "execution_count": 228,
     "metadata": {},
     "output_type": "execute_result"
    },
    {
     "data": {
      "image/png": "[encoded data removed]",
      "text/plain": [
       "<matplotlib.figure.Figure at 0x209cd0d55f8>"
      ]
     },
     "metadata": {},
     "output_type": "display_data"
    }
   ],
   "source": [
    "sns.distplot(listings.price)"
   ]
  },
  {
   "cell_type": "code",
   "execution_count": 229,
   "metadata": {
    "scrolled": true
   },
   "outputs": [
    {
     "data": {
      "text/plain": [
       "count           892\n",
       "unique          243\n",
       "top       $1,000.00\n",
       "freq             48\n",
       "Name: weekly_price, dtype: object"
      ]
     },
     "execution_count": 229,
     "metadata": {},
     "output_type": "execute_result"
    }
   ],
   "source": [
    "listings['weekly_price'] .describe()"
   ]
  },
  {
   "cell_type": "code",
   "execution_count": 230,
   "metadata": {
    "collapsed": true
   },
   "outputs": [],
   "source": [
    "def clean_prices(listings,col):\n",
    "    listings[col] = listings[col].astype(object)\n",
    "    listings[col]  =listings[col].map(lambda x: x.replace(\",\", \"\"))\n",
    "    listings[col] = listings[col].map(lambda p: p[1:-3])\n",
    "    return listings"
   ]
  },
  {
   "cell_type": "code",
   "execution_count": 231,
   "metadata": {
    "collapsed": true
   },
   "outputs": [],
   "source": [
    "listings['monthly_price2'] = listings['monthly_price'].astype(str)\n",
    "listings['monthly_price2']  =listings['monthly_price2'].map(lambda x: x.replace(\",\", \"\"))\n",
    "listings['monthly_price2'] = listings['monthly_price2'].map(lambda p: p[1:-3])\n",
    "listings['weekly_price2'] = listings['weekly_price'].astype(str)\n",
    "listings['weekly_price2']  =listings['weekly_price2'].map(lambda x: x.replace(\",\", \"\"))\n",
    "listings['weekly_price2'] = listings['weekly_price2'].map(lambda p: p[1:-3])"
   ]
  },
  {
   "cell_type": "code",
   "execution_count": 20,
   "metadata": {
    "collapsed": true
   },
   "outputs": [],
   "source": [
    "categorical = ['host_verifications','neighbourhood_cleansed','property_type','room_type','bed_type','amenities','cancellation_policy']"
   ]
  },
  {
   "cell_type": "code",
   "execution_count": 21,
   "metadata": {
    "collapsed": true
   },
   "outputs": [],
   "source": [
    "listings  = pd.get_dummies(data=listings,columns=categorical,drop_first=True)"
   ]
  },
  {
   "cell_type": "code",
   "execution_count": 22,
   "metadata": {
    "collapsed": true
   },
   "outputs": [],
   "source": [
    "listings.to_csv('listings_preporcessed.csv')"
   ]
  },
  {
   "cell_type": "code",
   "execution_count": 233,
   "metadata": {},
   "outputs": [
    {
     "data": {
      "text/plain": [
       "count           888\n",
       "unique          288\n",
       "top       $3,500.00\n",
       "freq             30\n",
       "Name: monthly_price, dtype: object"
      ]
     },
     "execution_count": 233,
     "metadata": {},
     "output_type": "execute_result"
    }
   ],
   "source": [
    "listings['monthly_price'].describe()"
   ]
  },
  {
   "cell_type": "code",
   "execution_count": 235,
   "metadata": {},
   "outputs": [
    {
     "name": "stderr",
     "output_type": "stream",
     "text": [
      "C:\\Users\\varun\\Anaconda3\\lib\\site-packages\\ipykernel_launcher.py:1: SettingWithCopyWarning: \n",
      "A value is trying to be set on a copy of a slice from a DataFrame\n",
      "\n",
      "See the caveats in the documentation: http://pandas.pydata.org/pandas-docs/stable/indexing.html#indexing-view-versus-copy\n",
      "  \"\"\"Entry point for launching an IPython kernel.\n"
     ]
    }
   ],
   "source": [
    "listings[listings['weekly_price2']==''].loc['weekly_price2'] = listings[listings['weekly_price2']=='']['price']*7"
   ]
  },
  {
   "cell_type": "code",
   "execution_count": 238,
   "metadata": {},
   "outputs": [
    {
     "data": {
      "text/plain": [
       "3585"
      ]
     },
     "execution_count": 238,
     "metadata": {},
     "output_type": "execute_result"
    }
   ],
   "source": [
    "len(listings)"
   ]
  },
  {
   "cell_type": "code",
   "execution_count": null,
   "metadata": {
    "collapsed": true
   },
   "outputs": [],
   "source": [
    "for x in len()"
   ]
  },
  {
   "cell_type": "code",
   "execution_count": 236,
   "metadata": {
    "collapsed": true
   },
   "outputs": [],
   "source": [
    "listings['weekly_discount']= listings['price'].astype(int)*7 -listings['weekly_price2'].replace('',0).astype(int)"
   ]
  },
  {
   "cell_type": "code",
   "execution_count": 237,
   "metadata": {},
   "outputs": [
    {
     "data": {
      "text/html": [
       "<div>\n",
       "<style>\n",
       "    .dataframe thead tr:only-child th {\n",
       "        text-align: right;\n",
       "    }\n",
       "\n",
       "    .dataframe thead th {\n",
       "        text-align: left;\n",
       "    }\n",
       "\n",
       "    .dataframe tbody tr th {\n",
       "        vertical-align: top;\n",
       "    }\n",
       "</style>\n",
       "<table border=\"1\" class=\"dataframe\">\n",
       "  <thead>\n",
       "    <tr style=\"text-align: right;\">\n",
       "      <th></th>\n",
       "      <th>price</th>\n",
       "      <th>weekly_price2</th>\n",
       "      <th>weekly_discount</th>\n",
       "    </tr>\n",
       "  </thead>\n",
       "  <tbody>\n",
       "    <tr>\n",
       "      <th>0</th>\n",
       "      <td>250</td>\n",
       "      <td></td>\n",
       "      <td>1750</td>\n",
       "    </tr>\n",
       "    <tr>\n",
       "      <th>1</th>\n",
       "      <td>65</td>\n",
       "      <td>400</td>\n",
       "      <td>55</td>\n",
       "    </tr>\n",
       "    <tr>\n",
       "      <th>2</th>\n",
       "      <td>65</td>\n",
       "      <td>395</td>\n",
       "      <td>60</td>\n",
       "    </tr>\n",
       "    <tr>\n",
       "      <th>3</th>\n",
       "      <td>75</td>\n",
       "      <td></td>\n",
       "      <td>525</td>\n",
       "    </tr>\n",
       "    <tr>\n",
       "      <th>4</th>\n",
       "      <td>79</td>\n",
       "      <td></td>\n",
       "      <td>553</td>\n",
       "    </tr>\n",
       "    <tr>\n",
       "      <th>5</th>\n",
       "      <td>75</td>\n",
       "      <td></td>\n",
       "      <td>525</td>\n",
       "    </tr>\n",
       "    <tr>\n",
       "      <th>6</th>\n",
       "      <td>100</td>\n",
       "      <td></td>\n",
       "      <td>700</td>\n",
       "    </tr>\n",
       "    <tr>\n",
       "      <th>7</th>\n",
       "      <td>75</td>\n",
       "      <td></td>\n",
       "      <td>525</td>\n",
       "    </tr>\n",
       "    <tr>\n",
       "      <th>8</th>\n",
       "      <td>58</td>\n",
       "      <td></td>\n",
       "      <td>406</td>\n",
       "    </tr>\n",
       "    <tr>\n",
       "      <th>9</th>\n",
       "      <td>229</td>\n",
       "      <td></td>\n",
       "      <td>1603</td>\n",
       "    </tr>\n",
       "    <tr>\n",
       "      <th>10</th>\n",
       "      <td>60</td>\n",
       "      <td></td>\n",
       "      <td>420</td>\n",
       "    </tr>\n",
       "    <tr>\n",
       "      <th>11</th>\n",
       "      <td>57</td>\n",
       "      <td>350</td>\n",
       "      <td>49</td>\n",
       "    </tr>\n",
       "    <tr>\n",
       "      <th>12</th>\n",
       "      <td>93</td>\n",
       "      <td></td>\n",
       "      <td>651</td>\n",
       "    </tr>\n",
       "    <tr>\n",
       "      <th>13</th>\n",
       "      <td>150</td>\n",
       "      <td></td>\n",
       "      <td>1050</td>\n",
       "    </tr>\n",
       "    <tr>\n",
       "      <th>14</th>\n",
       "      <td>145</td>\n",
       "      <td>950</td>\n",
       "      <td>65</td>\n",
       "    </tr>\n",
       "    <tr>\n",
       "      <th>15</th>\n",
       "      <td>60</td>\n",
       "      <td>350</td>\n",
       "      <td>70</td>\n",
       "    </tr>\n",
       "    <tr>\n",
       "      <th>16</th>\n",
       "      <td>165</td>\n",
       "      <td>750</td>\n",
       "      <td>405</td>\n",
       "    </tr>\n",
       "    <tr>\n",
       "      <th>17</th>\n",
       "      <td>75</td>\n",
       "      <td></td>\n",
       "      <td>525</td>\n",
       "    </tr>\n",
       "    <tr>\n",
       "      <th>18</th>\n",
       "      <td>49</td>\n",
       "      <td></td>\n",
       "      <td>343</td>\n",
       "    </tr>\n",
       "    <tr>\n",
       "      <th>19</th>\n",
       "      <td>49</td>\n",
       "      <td>280</td>\n",
       "      <td>63</td>\n",
       "    </tr>\n",
       "    <tr>\n",
       "      <th>20</th>\n",
       "      <td>40</td>\n",
       "      <td>250</td>\n",
       "      <td>30</td>\n",
       "    </tr>\n",
       "    <tr>\n",
       "      <th>21</th>\n",
       "      <td>120</td>\n",
       "      <td></td>\n",
       "      <td>840</td>\n",
       "    </tr>\n",
       "    <tr>\n",
       "      <th>22</th>\n",
       "      <td>70</td>\n",
       "      <td>420</td>\n",
       "      <td>70</td>\n",
       "    </tr>\n",
       "    <tr>\n",
       "      <th>23</th>\n",
       "      <td>150</td>\n",
       "      <td>700</td>\n",
       "      <td>350</td>\n",
       "    </tr>\n",
       "    <tr>\n",
       "      <th>24</th>\n",
       "      <td>175</td>\n",
       "      <td></td>\n",
       "      <td>1225</td>\n",
       "    </tr>\n",
       "    <tr>\n",
       "      <th>25</th>\n",
       "      <td>95</td>\n",
       "      <td>625</td>\n",
       "      <td>40</td>\n",
       "    </tr>\n",
       "    <tr>\n",
       "      <th>26</th>\n",
       "      <td>90</td>\n",
       "      <td>500</td>\n",
       "      <td>130</td>\n",
       "    </tr>\n",
       "    <tr>\n",
       "      <th>27</th>\n",
       "      <td>95</td>\n",
       "      <td>500</td>\n",
       "      <td>165</td>\n",
       "    </tr>\n",
       "    <tr>\n",
       "      <th>28</th>\n",
       "      <td>100</td>\n",
       "      <td>500</td>\n",
       "      <td>200</td>\n",
       "    </tr>\n",
       "    <tr>\n",
       "      <th>29</th>\n",
       "      <td>67</td>\n",
       "      <td>400</td>\n",
       "      <td>69</td>\n",
       "    </tr>\n",
       "    <tr>\n",
       "      <th>...</th>\n",
       "      <td>...</td>\n",
       "      <td>...</td>\n",
       "      <td>...</td>\n",
       "    </tr>\n",
       "    <tr>\n",
       "      <th>3555</th>\n",
       "      <td>39</td>\n",
       "      <td></td>\n",
       "      <td>273</td>\n",
       "    </tr>\n",
       "    <tr>\n",
       "      <th>3556</th>\n",
       "      <td>69</td>\n",
       "      <td></td>\n",
       "      <td>483</td>\n",
       "    </tr>\n",
       "    <tr>\n",
       "      <th>3557</th>\n",
       "      <td>60</td>\n",
       "      <td></td>\n",
       "      <td>420</td>\n",
       "    </tr>\n",
       "    <tr>\n",
       "      <th>3558</th>\n",
       "      <td>195</td>\n",
       "      <td></td>\n",
       "      <td>1365</td>\n",
       "    </tr>\n",
       "    <tr>\n",
       "      <th>3559</th>\n",
       "      <td>229</td>\n",
       "      <td></td>\n",
       "      <td>1603</td>\n",
       "    </tr>\n",
       "    <tr>\n",
       "      <th>3560</th>\n",
       "      <td>249</td>\n",
       "      <td></td>\n",
       "      <td>1743</td>\n",
       "    </tr>\n",
       "    <tr>\n",
       "      <th>3561</th>\n",
       "      <td>72</td>\n",
       "      <td></td>\n",
       "      <td>504</td>\n",
       "    </tr>\n",
       "    <tr>\n",
       "      <th>3562</th>\n",
       "      <td>179</td>\n",
       "      <td></td>\n",
       "      <td>1253</td>\n",
       "    </tr>\n",
       "    <tr>\n",
       "      <th>3563</th>\n",
       "      <td>199</td>\n",
       "      <td></td>\n",
       "      <td>1393</td>\n",
       "    </tr>\n",
       "    <tr>\n",
       "      <th>3564</th>\n",
       "      <td>75</td>\n",
       "      <td></td>\n",
       "      <td>525</td>\n",
       "    </tr>\n",
       "    <tr>\n",
       "      <th>3565</th>\n",
       "      <td>146</td>\n",
       "      <td></td>\n",
       "      <td>1022</td>\n",
       "    </tr>\n",
       "    <tr>\n",
       "      <th>3566</th>\n",
       "      <td>85</td>\n",
       "      <td></td>\n",
       "      <td>595</td>\n",
       "    </tr>\n",
       "    <tr>\n",
       "      <th>3567</th>\n",
       "      <td>259</td>\n",
       "      <td></td>\n",
       "      <td>1813</td>\n",
       "    </tr>\n",
       "    <tr>\n",
       "      <th>3568</th>\n",
       "      <td>69</td>\n",
       "      <td></td>\n",
       "      <td>483</td>\n",
       "    </tr>\n",
       "    <tr>\n",
       "      <th>3569</th>\n",
       "      <td>200</td>\n",
       "      <td></td>\n",
       "      <td>1400</td>\n",
       "    </tr>\n",
       "    <tr>\n",
       "      <th>3570</th>\n",
       "      <td>72</td>\n",
       "      <td></td>\n",
       "      <td>504</td>\n",
       "    </tr>\n",
       "    <tr>\n",
       "      <th>3571</th>\n",
       "      <td>89</td>\n",
       "      <td></td>\n",
       "      <td>623</td>\n",
       "    </tr>\n",
       "    <tr>\n",
       "      <th>3572</th>\n",
       "      <td>459</td>\n",
       "      <td></td>\n",
       "      <td>3213</td>\n",
       "    </tr>\n",
       "    <tr>\n",
       "      <th>3573</th>\n",
       "      <td>65</td>\n",
       "      <td></td>\n",
       "      <td>455</td>\n",
       "    </tr>\n",
       "    <tr>\n",
       "      <th>3574</th>\n",
       "      <td>68</td>\n",
       "      <td></td>\n",
       "      <td>476</td>\n",
       "    </tr>\n",
       "    <tr>\n",
       "      <th>3575</th>\n",
       "      <td>69</td>\n",
       "      <td></td>\n",
       "      <td>483</td>\n",
       "    </tr>\n",
       "    <tr>\n",
       "      <th>3576</th>\n",
       "      <td>124</td>\n",
       "      <td></td>\n",
       "      <td>868</td>\n",
       "    </tr>\n",
       "    <tr>\n",
       "      <th>3577</th>\n",
       "      <td>150</td>\n",
       "      <td></td>\n",
       "      <td>1050</td>\n",
       "    </tr>\n",
       "    <tr>\n",
       "      <th>3578</th>\n",
       "      <td>85</td>\n",
       "      <td></td>\n",
       "      <td>595</td>\n",
       "    </tr>\n",
       "    <tr>\n",
       "      <th>3579</th>\n",
       "      <td>100</td>\n",
       "      <td></td>\n",
       "      <td>700</td>\n",
       "    </tr>\n",
       "    <tr>\n",
       "      <th>3580</th>\n",
       "      <td>69</td>\n",
       "      <td></td>\n",
       "      <td>483</td>\n",
       "    </tr>\n",
       "    <tr>\n",
       "      <th>3581</th>\n",
       "      <td>150</td>\n",
       "      <td></td>\n",
       "      <td>1050</td>\n",
       "    </tr>\n",
       "    <tr>\n",
       "      <th>3582</th>\n",
       "      <td>198</td>\n",
       "      <td></td>\n",
       "      <td>1386</td>\n",
       "    </tr>\n",
       "    <tr>\n",
       "      <th>3583</th>\n",
       "      <td>65</td>\n",
       "      <td></td>\n",
       "      <td>455</td>\n",
       "    </tr>\n",
       "    <tr>\n",
       "      <th>3584</th>\n",
       "      <td>65</td>\n",
       "      <td></td>\n",
       "      <td>455</td>\n",
       "    </tr>\n",
       "  </tbody>\n",
       "</table>\n",
       "<p>3585 rows × 3 columns</p>\n",
       "</div>"
      ],
      "text/plain": [
       "      price weekly_price2  weekly_discount\n",
       "0       250                           1750\n",
       "1        65           400               55\n",
       "2        65           395               60\n",
       "3        75                            525\n",
       "4        79                            553\n",
       "5        75                            525\n",
       "6       100                            700\n",
       "7        75                            525\n",
       "8        58                            406\n",
       "9       229                           1603\n",
       "10       60                            420\n",
       "11       57           350               49\n",
       "12       93                            651\n",
       "13      150                           1050\n",
       "14      145           950               65\n",
       "15       60           350               70\n",
       "16      165           750              405\n",
       "17       75                            525\n",
       "18       49                            343\n",
       "19       49           280               63\n",
       "20       40           250               30\n",
       "21      120                            840\n",
       "22       70           420               70\n",
       "23      150           700              350\n",
       "24      175                           1225\n",
       "25       95           625               40\n",
       "26       90           500              130\n",
       "27       95           500              165\n",
       "28      100           500              200\n",
       "29       67           400               69\n",
       "...     ...           ...              ...\n",
       "3555     39                            273\n",
       "3556     69                            483\n",
       "3557     60                            420\n",
       "3558    195                           1365\n",
       "3559    229                           1603\n",
       "3560    249                           1743\n",
       "3561     72                            504\n",
       "3562    179                           1253\n",
       "3563    199                           1393\n",
       "3564     75                            525\n",
       "3565    146                           1022\n",
       "3566     85                            595\n",
       "3567    259                           1813\n",
       "3568     69                            483\n",
       "3569    200                           1400\n",
       "3570     72                            504\n",
       "3571     89                            623\n",
       "3572    459                           3213\n",
       "3573     65                            455\n",
       "3574     68                            476\n",
       "3575     69                            483\n",
       "3576    124                            868\n",
       "3577    150                           1050\n",
       "3578     85                            595\n",
       "3579    100                            700\n",
       "3580     69                            483\n",
       "3581    150                           1050\n",
       "3582    198                           1386\n",
       "3583     65                            455\n",
       "3584     65                            455\n",
       "\n",
       "[3585 rows x 3 columns]"
      ]
     },
     "execution_count": 237,
     "metadata": {},
     "output_type": "execute_result"
    }
   ],
   "source": [
    "listings[['price','weekly_price2','weekly_discount']]"
   ]
  },
  {
   "cell_type": "code",
   "execution_count": 175,
   "metadata": {
    "collapsed": true
   },
   "outputs": [],
   "source": [
    "listings2.fillna(0,inplace=True)"
   ]
  },
  {
   "cell_type": "code",
   "execution_count": 176,
   "metadata": {},
   "outputs": [
    {
     "data": {
      "text/plain": [
       "0          \n",
       "1       400\n",
       "2       395\n",
       "3          \n",
       "4          \n",
       "5          \n",
       "6          \n",
       "7          \n",
       "8          \n",
       "9          \n",
       "10         \n",
       "11      350\n",
       "12         \n",
       "13         \n",
       "14      950\n",
       "15      350\n",
       "16      750\n",
       "17         \n",
       "18         \n",
       "19      280\n",
       "20      250\n",
       "21         \n",
       "22      420\n",
       "23      700\n",
       "24         \n",
       "25      625\n",
       "26      500\n",
       "27      500\n",
       "28      500\n",
       "29      400\n",
       "       ... \n",
       "3555       \n",
       "3556       \n",
       "3557       \n",
       "3558       \n",
       "3559       \n",
       "3560       \n",
       "3561       \n",
       "3562       \n",
       "3563       \n",
       "3564       \n",
       "3565       \n",
       "3566       \n",
       "3567       \n",
       "3568       \n",
       "3569       \n",
       "3570       \n",
       "3571       \n",
       "3572       \n",
       "3573       \n",
       "3574       \n",
       "3575       \n",
       "3576       \n",
       "3577       \n",
       "3578       \n",
       "3579       \n",
       "3580       \n",
       "3581       \n",
       "3582       \n",
       "3583       \n",
       "3584       \n",
       "Name: weekly_price2, Length: 3585, dtype: object"
      ]
     },
     "execution_count": 176,
     "metadata": {},
     "output_type": "execute_result"
    }
   ],
   "source": []
  },
  {
   "cell_type": "code",
   "execution_count": null,
   "metadata": {
    "collapsed": true
   },
   "outputs": [],
   "source": [
    "listings['weekly_price2']  =listings['weekly_price'] .astype(str)"
   ]
  },
  {
   "cell_type": "code",
   "execution_count": null,
   "metadata": {
    "collapsed": true
   },
   "outputs": [],
   "source": [
    "listings['weekly_price2']  =listings['weekly_price2'].replace(\",\", \"\")"
   ]
  },
  {
   "cell_type": "code",
   "execution_count": null,
   "metadata": {
    "collapsed": true
   },
   "outputs": [],
   "source": [
    "listings['weekly_price2'] = listings['weekly_price2'].map(lambda p: p[1:-3])"
   ]
  },
  {
   "cell_type": "code",
   "execution_count": null,
   "metadata": {
    "collapsed": true
   },
   "outputs": [],
   "source": [
    "listings[['weekly_price','weekly_price2']]"
   ]
  },
  {
   "cell_type": "code",
   "execution_count": null,
   "metadata": {
    "collapsed": true
   },
   "outputs": [],
   "source": [
    "listings['weekly_price'] = listings['weekly_price'].map(lambda p: p[1:-3].replace(\",\", \"\"))"
   ]
  },
  {
   "cell_type": "code",
   "execution_count": null,
   "metadata": {
    "collapsed": true
   },
   "outputs": [],
   "source": [
    "listings['monthly_price']= listings['monthly_price'].map(lambda p: int(p[1:-3].replace(\",\", \"\")))"
   ]
  },
  {
   "cell_type": "code",
   "execution_count": null,
   "metadata": {
    "collapsed": true
   },
   "outputs": [],
   "source": []
  }
 ],
 "metadata": {
  "kernelspec": {
   "display_name": "Python 3",
   "language": "python",
   "name": "python3"
  },
  "language_info": {
   "codemirror_mode": {
    "name": "ipython",
    "version": 3
   },
   "file_extension": ".py",
   "mimetype": "text/x-python",
   "name": "python",
   "nbconvert_exporter": "python",
   "pygments_lexer": "ipython3",
   "version": "3.6.2"
  }
 },
 "nbformat": 4,
 "nbformat_minor": 2
}

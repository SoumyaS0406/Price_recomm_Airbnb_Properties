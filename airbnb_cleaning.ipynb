{
 "cells": [
  {
   "cell_type": "code",
   "execution_count": 1,
   "metadata": {},
   "outputs": [],
   "source": [
    "import pandas as pd\n",
    "import glob\n",
    "import seaborn as sns\n",
    "import matplotlib.pyplot as plt\n",
    "import numpy as np\n",
    "%matplotlib inline\n",
    "import warnings\n",
    "from scipy.stats.stats import pearsonr\n",
    "import matplotlib as mpl\n"
   ]
  },
  {
   "cell_type": "code",
   "execution_count": 2,
   "metadata": {
    "collapsed": true
   },
   "outputs": [],
   "source": [
    "def delete_columns(df, df_to_be_del):\n",
    "    for col in df_to_be_del.columns:\n",
    "        print(\"The column deleted is : \"+col)\n",
    "        del df[col]"
   ]
  },
  {
   "cell_type": "code",
   "execution_count": 3,
   "metadata": {
    "collapsed": true
   },
   "outputs": [],
   "source": [
    "def check_unique_vals(df,col_list):\n",
    "    for col in col_list:\n",
    "        print(\"Unique values in \"+col+\" are:\")\n",
    "        print(set(df[col]))"
   ]
  },
  {
   "cell_type": "code",
   "execution_count": 4,
   "metadata": {
    "collapsed": true
   },
   "outputs": [],
   "source": [
    "def check_all_missing_and_unique(df):\n",
    "    drop_list =[]\n",
    "    for x in df.columns:\n",
    "        if df[x].nunique() == 1:\n",
    "            print(x,' : Has single unique value for all rows and can be dropped')\n",
    "            drop_list.append(x)\n",
    "        if df[x].nunique() == 0:\n",
    "            print(x,' : Has all blank rows and can be dropped')\n",
    "            drop_list.append(x)\n",
    "    return drop_list"
   ]
  },
  {
   "cell_type": "code",
   "execution_count": 5,
   "metadata": {
    "collapsed": true
   },
   "outputs": [],
   "source": [
    "def missing_values_percentage(data,threshold):\n",
    "    drop_list =[]\n",
    "    for x in data.columns:\n",
    "        if (data[x].isnull().sum()/len(data)) >= threshold:\n",
    "            print(x,' Has more than ',threshold*100,' Percent missing values')\n",
    "            drop_list.append(x)\n",
    "    return drop_list"
   ]
  },
  {
   "cell_type": "code",
   "execution_count": 6,
   "metadata": {
    "collapsed": true
   },
   "outputs": [],
   "source": [
    "def check_binary_vals(df):\n",
    "    binary_col_list =[]\n",
    "    for x in df.columns:\n",
    "        if df[x].nunique() == 2:\n",
    "            print(x,' : Has binary values : ',df[x].unique())\n",
    "            binary_col_list.append(x)\n",
    "    return binary_col_list        "
   ]
  },
  {
   "cell_type": "code",
   "execution_count": 7,
   "metadata": {
    "collapsed": true
   },
   "outputs": [],
   "source": [
    "def change_obj_to_category(df,col_list):\n",
    "    for x in col_list:\n",
    "        df[x] = df[x].astype('category')"
   ]
  },
  {
   "cell_type": "code",
   "execution_count": 8,
   "metadata": {
    "collapsed": true
   },
   "outputs": [],
   "source": [
    "def to_binary(x):\n",
    "    if x=='f':\n",
    "        x=x.replace('f','0')\n",
    "        #x=bool(x)\n",
    "    if x=='t':\n",
    "        x=x.replace('t','1')\n",
    "        #x=bool(x)\n",
    "    return (x)"
   ]
  },
  {
   "cell_type": "code",
   "execution_count": 9,
   "metadata": {
    "collapsed": true
   },
   "outputs": [],
   "source": [
    "listings = pd.read_csv('C:\\\\Users\\\\soumya\\\\Documents\\\\CONSUMER ANALYTICS\\Project\\datasets\\\\listings.csv')\n",
    "calendar = pd.read_csv('C:\\\\Users\\\\soumya\\\\Documents\\\\CONSUMER ANALYTICS\\Project\\datasets\\\\calendar.csv')\n",
    "reviews = pd.read_csv('C:\\\\Users\\\\soumya\\\\Documents\\\\CONSUMER ANALYTICS\\Project\\datasets\\\\reviews.csv')"
   ]
  },
  {
   "cell_type": "code",
   "execution_count": 10,
   "metadata": {},
   "outputs": [
    {
     "name": "stdout",
     "output_type": "stream",
     "text": [
      "(3585, 95)\n",
      "(1308890, 4)\n",
      "(68275, 6)\n"
     ]
    }
   ],
   "source": [
    "print(listings.shape)\n",
    "print(calendar.shape)\n",
    "print(reviews.shape) "
   ]
  },
  {
   "cell_type": "code",
   "execution_count": 11,
   "metadata": {},
   "outputs": [
    {
     "name": "stdout",
     "output_type": "stream",
     "text": [
      "scrape_id  : Has single unique value for all rows and can be dropped\n",
      "last_scraped  : Has single unique value for all rows and can be dropped\n",
      "experiences_offered  : Has single unique value for all rows and can be dropped\n",
      "neighbourhood_group_cleansed  : Has all blank rows and can be dropped\n",
      "state  : Has single unique value for all rows and can be dropped\n",
      "country_code  : Has single unique value for all rows and can be dropped\n",
      "country  : Has single unique value for all rows and can be dropped\n",
      "has_availability  : Has all blank rows and can be dropped\n",
      "calendar_last_scraped  : Has single unique value for all rows and can be dropped\n",
      "requires_license  : Has single unique value for all rows and can be dropped\n",
      "license  : Has all blank rows and can be dropped\n",
      "jurisdiction_names  : Has all blank rows and can be dropped\n"
     ]
    }
   ],
   "source": [
    "drop_list = check_all_missing_and_unique(listings)"
   ]
  },
  {
   "cell_type": "code",
   "execution_count": 12,
   "metadata": {},
   "outputs": [
    {
     "name": "stdout",
     "output_type": "stream",
     "text": [
      "The column deleted is : scrape_id\n",
      "The column deleted is : last_scraped\n",
      "The column deleted is : experiences_offered\n",
      "The column deleted is : neighbourhood_group_cleansed\n",
      "The column deleted is : state\n",
      "The column deleted is : country_code\n",
      "The column deleted is : country\n",
      "The column deleted is : has_availability\n",
      "The column deleted is : calendar_last_scraped\n",
      "The column deleted is : requires_license\n",
      "The column deleted is : license\n",
      "The column deleted is : jurisdiction_names\n"
     ]
    }
   ],
   "source": [
    "drop_from_listings=listings[drop_list]\n",
    "delete_columns(listings,drop_from_listings)\n"
   ]
  },
  {
   "cell_type": "code",
   "execution_count": 13,
   "metadata": {},
   "outputs": [
    {
     "name": "stdout",
     "output_type": "stream",
     "text": [
      "(3585, 83)\n"
     ]
    }
   ],
   "source": [
    "print(listings.shape)"
   ]
  },
  {
   "cell_type": "markdown",
   "metadata": {},
   "source": []
  },
  {
   "cell_type": "code",
   "execution_count": 14,
   "metadata": {},
   "outputs": [
    {
     "name": "stderr",
     "output_type": "stream",
     "text": [
      "C:\\Users\\soumya\\Anaconda3\\anaconda\\lib\\site-packages\\ipykernel_launcher.py:2: DeprecationWarning: \n",
      ".ix is deprecated. Please use\n",
      ".loc for label based indexing or\n",
      ".iloc for positional indexing\n",
      "\n",
      "See the documentation here:\n",
      "http://pandas.pydata.org/pandas-docs/stable/indexing.html#ix-indexer-is-deprecated\n",
      "  \n"
     ]
    },
    {
     "data": {
      "text/html": [
       "<div>\n",
       "<style>\n",
       "    .dataframe thead tr:only-child th {\n",
       "        text-align: right;\n",
       "    }\n",
       "\n",
       "    .dataframe thead th {\n",
       "        text-align: left;\n",
       "    }\n",
       "\n",
       "    .dataframe tbody tr th {\n",
       "        vertical-align: top;\n",
       "    }\n",
       "</style>\n",
       "<table border=\"1\" class=\"dataframe\">\n",
       "  <thead>\n",
       "    <tr style=\"text-align: right;\">\n",
       "      <th></th>\n",
       "      <th>id</th>\n",
       "      <th>listing_url</th>\n",
       "      <th>name</th>\n",
       "      <th>summary</th>\n",
       "      <th>space</th>\n",
       "      <th>description</th>\n",
       "      <th>neighborhood_overview</th>\n",
       "    </tr>\n",
       "  </thead>\n",
       "  <tbody>\n",
       "    <tr>\n",
       "      <th>0</th>\n",
       "      <td>12147973</td>\n",
       "      <td>https://www.airbnb.com/rooms/12147973</td>\n",
       "      <td>Sunny Bungalow in the City</td>\n",
       "      <td>Cozy, sunny, family home.  Master bedroom high...</td>\n",
       "      <td>The house has an open and cozy feel at the sam...</td>\n",
       "      <td>Cozy, sunny, family home.  Master bedroom high...</td>\n",
       "      <td>Roslindale is quiet, convenient and friendly. ...</td>\n",
       "    </tr>\n",
       "    <tr>\n",
       "      <th>1</th>\n",
       "      <td>3075044</td>\n",
       "      <td>https://www.airbnb.com/rooms/3075044</td>\n",
       "      <td>Charming room in pet friendly apt</td>\n",
       "      <td>Charming and quiet room in a second floor 1910...</td>\n",
       "      <td>Small but cozy and quite room with a full size...</td>\n",
       "      <td>Charming and quiet room in a second floor 1910...</td>\n",
       "      <td>The room is in Roslindale, a diverse and prima...</td>\n",
       "    </tr>\n",
       "    <tr>\n",
       "      <th>2</th>\n",
       "      <td>6976</td>\n",
       "      <td>https://www.airbnb.com/rooms/6976</td>\n",
       "      <td>Mexican Folk Art Haven in Boston</td>\n",
       "      <td>Come stay with a friendly, middle-aged guy in ...</td>\n",
       "      <td>Come stay with a friendly, middle-aged guy in ...</td>\n",
       "      <td>Come stay with a friendly, middle-aged guy in ...</td>\n",
       "      <td>The LOCATION: Roslindale is a safe and diverse...</td>\n",
       "    </tr>\n",
       "    <tr>\n",
       "      <th>3</th>\n",
       "      <td>1436513</td>\n",
       "      <td>https://www.airbnb.com/rooms/1436513</td>\n",
       "      <td>Spacious Sunny Bedroom Suite in Historic Home</td>\n",
       "      <td>Come experience the comforts of home away from...</td>\n",
       "      <td>Most places you find in Boston are small howev...</td>\n",
       "      <td>Come experience the comforts of home away from...</td>\n",
       "      <td>Roslindale is a lovely little neighborhood loc...</td>\n",
       "    </tr>\n",
       "    <tr>\n",
       "      <th>4</th>\n",
       "      <td>7651065</td>\n",
       "      <td>https://www.airbnb.com/rooms/7651065</td>\n",
       "      <td>Come Home to Boston</td>\n",
       "      <td>My comfy, clean and relaxing home is one block...</td>\n",
       "      <td>Clean, attractive, private room, one block fro...</td>\n",
       "      <td>My comfy, clean and relaxing home is one block...</td>\n",
       "      <td>I love the proximity to downtown, the neighbor...</td>\n",
       "    </tr>\n",
       "  </tbody>\n",
       "</table>\n",
       "</div>"
      ],
      "text/plain": [
       "         id                            listing_url  \\\n",
       "0  12147973  https://www.airbnb.com/rooms/12147973   \n",
       "1   3075044   https://www.airbnb.com/rooms/3075044   \n",
       "2      6976      https://www.airbnb.com/rooms/6976   \n",
       "3   1436513   https://www.airbnb.com/rooms/1436513   \n",
       "4   7651065   https://www.airbnb.com/rooms/7651065   \n",
       "\n",
       "                                            name  \\\n",
       "0                     Sunny Bungalow in the City   \n",
       "1              Charming room in pet friendly apt   \n",
       "2               Mexican Folk Art Haven in Boston   \n",
       "3  Spacious Sunny Bedroom Suite in Historic Home   \n",
       "4                            Come Home to Boston   \n",
       "\n",
       "                                             summary  \\\n",
       "0  Cozy, sunny, family home.  Master bedroom high...   \n",
       "1  Charming and quiet room in a second floor 1910...   \n",
       "2  Come stay with a friendly, middle-aged guy in ...   \n",
       "3  Come experience the comforts of home away from...   \n",
       "4  My comfy, clean and relaxing home is one block...   \n",
       "\n",
       "                                               space  \\\n",
       "0  The house has an open and cozy feel at the sam...   \n",
       "1  Small but cozy and quite room with a full size...   \n",
       "2  Come stay with a friendly, middle-aged guy in ...   \n",
       "3  Most places you find in Boston are small howev...   \n",
       "4  Clean, attractive, private room, one block fro...   \n",
       "\n",
       "                                         description  \\\n",
       "0  Cozy, sunny, family home.  Master bedroom high...   \n",
       "1  Charming and quiet room in a second floor 1910...   \n",
       "2  Come stay with a friendly, middle-aged guy in ...   \n",
       "3  Come experience the comforts of home away from...   \n",
       "4  My comfy, clean and relaxing home is one block...   \n",
       "\n",
       "                               neighborhood_overview  \n",
       "0  Roslindale is quiet, convenient and friendly. ...  \n",
       "1  The room is in Roslindale, a diverse and prima...  \n",
       "2  The LOCATION: Roslindale is a safe and diverse...  \n",
       "3  Roslindale is a lovely little neighborhood loc...  \n",
       "4  I love the proximity to downtown, the neighbor...  "
      ]
     },
     "execution_count": 14,
     "metadata": {},
     "output_type": "execute_result"
    }
   ],
   "source": [
    "# .ix[row slice, column slice] \n",
    "listings.ix[:4,:7]"
   ]
  },
  {
   "cell_type": "code",
   "execution_count": 15,
   "metadata": {},
   "outputs": [
    {
     "data": {
      "text/html": [
       "<div>\n",
       "<style>\n",
       "    .dataframe thead tr:only-child th {\n",
       "        text-align: right;\n",
       "    }\n",
       "\n",
       "    .dataframe thead th {\n",
       "        text-align: left;\n",
       "    }\n",
       "\n",
       "    .dataframe tbody tr th {\n",
       "        vertical-align: top;\n",
       "    }\n",
       "</style>\n",
       "<table border=\"1\" class=\"dataframe\">\n",
       "  <thead>\n",
       "    <tr style=\"text-align: right;\">\n",
       "      <th></th>\n",
       "      <th>host_acceptance_rate</th>\n",
       "      <th>host_is_superhost</th>\n",
       "      <th>host_thumbnail_url</th>\n",
       "      <th>host_picture_url</th>\n",
       "      <th>host_neighbourhood</th>\n",
       "      <th>host_listings_count</th>\n",
       "      <th>host_total_listings_count</th>\n",
       "      <th>host_verifications</th>\n",
       "      <th>host_has_profile_pic</th>\n",
       "      <th>host_identity_verified</th>\n",
       "      <th>street</th>\n",
       "    </tr>\n",
       "  </thead>\n",
       "  <tbody>\n",
       "    <tr>\n",
       "      <th>0</th>\n",
       "      <td>NaN</td>\n",
       "      <td>f</td>\n",
       "      <td>https://a2.muscache.com/im/pictures/5936fef0-b...</td>\n",
       "      <td>https://a2.muscache.com/im/pictures/5936fef0-b...</td>\n",
       "      <td>Roslindale</td>\n",
       "      <td>1</td>\n",
       "      <td>1</td>\n",
       "      <td>['email', 'phone', 'facebook', 'reviews']</td>\n",
       "      <td>t</td>\n",
       "      <td>f</td>\n",
       "      <td>Birch Street, Boston, MA 02131, United States</td>\n",
       "    </tr>\n",
       "    <tr>\n",
       "      <th>1</th>\n",
       "      <td>100%</td>\n",
       "      <td>f</td>\n",
       "      <td>https://a2.muscache.com/im/users/2572247/profi...</td>\n",
       "      <td>https://a2.muscache.com/im/users/2572247/profi...</td>\n",
       "      <td>Roslindale</td>\n",
       "      <td>1</td>\n",
       "      <td>1</td>\n",
       "      <td>['email', 'phone', 'facebook', 'linkedin', 'am...</td>\n",
       "      <td>t</td>\n",
       "      <td>t</td>\n",
       "      <td>Pinehurst Street, Boston, MA 02131, United States</td>\n",
       "    </tr>\n",
       "    <tr>\n",
       "      <th>2</th>\n",
       "      <td>88%</td>\n",
       "      <td>t</td>\n",
       "      <td>https://a2.muscache.com/im/users/16701/profile...</td>\n",
       "      <td>https://a2.muscache.com/im/users/16701/profile...</td>\n",
       "      <td>Roslindale</td>\n",
       "      <td>1</td>\n",
       "      <td>1</td>\n",
       "      <td>['email', 'phone', 'reviews', 'jumio']</td>\n",
       "      <td>t</td>\n",
       "      <td>t</td>\n",
       "      <td>Ardale St., Boston, MA 02131, United States</td>\n",
       "    </tr>\n",
       "    <tr>\n",
       "      <th>3</th>\n",
       "      <td>50%</td>\n",
       "      <td>f</td>\n",
       "      <td>https://a2.muscache.com/im/pictures/5d430cde-7...</td>\n",
       "      <td>https://a2.muscache.com/im/pictures/5d430cde-7...</td>\n",
       "      <td>NaN</td>\n",
       "      <td>1</td>\n",
       "      <td>1</td>\n",
       "      <td>['email', 'phone', 'reviews']</td>\n",
       "      <td>t</td>\n",
       "      <td>f</td>\n",
       "      <td>Boston, MA, United States</td>\n",
       "    </tr>\n",
       "    <tr>\n",
       "      <th>4</th>\n",
       "      <td>100%</td>\n",
       "      <td>t</td>\n",
       "      <td>https://a0.muscache.com/im/users/15396970/prof...</td>\n",
       "      <td>https://a0.muscache.com/im/users/15396970/prof...</td>\n",
       "      <td>Roslindale</td>\n",
       "      <td>1</td>\n",
       "      <td>1</td>\n",
       "      <td>['email', 'phone', 'reviews', 'kba']</td>\n",
       "      <td>t</td>\n",
       "      <td>t</td>\n",
       "      <td>Durnell Avenue, Boston, MA 02131, United States</td>\n",
       "    </tr>\n",
       "  </tbody>\n",
       "</table>\n",
       "</div>"
      ],
      "text/plain": [
       "  host_acceptance_rate host_is_superhost  \\\n",
       "0                  NaN                 f   \n",
       "1                 100%                 f   \n",
       "2                  88%                 t   \n",
       "3                  50%                 f   \n",
       "4                 100%                 t   \n",
       "\n",
       "                                  host_thumbnail_url  \\\n",
       "0  https://a2.muscache.com/im/pictures/5936fef0-b...   \n",
       "1  https://a2.muscache.com/im/users/2572247/profi...   \n",
       "2  https://a2.muscache.com/im/users/16701/profile...   \n",
       "3  https://a2.muscache.com/im/pictures/5d430cde-7...   \n",
       "4  https://a0.muscache.com/im/users/15396970/prof...   \n",
       "\n",
       "                                    host_picture_url host_neighbourhood  \\\n",
       "0  https://a2.muscache.com/im/pictures/5936fef0-b...         Roslindale   \n",
       "1  https://a2.muscache.com/im/users/2572247/profi...         Roslindale   \n",
       "2  https://a2.muscache.com/im/users/16701/profile...         Roslindale   \n",
       "3  https://a2.muscache.com/im/pictures/5d430cde-7...                NaN   \n",
       "4  https://a0.muscache.com/im/users/15396970/prof...         Roslindale   \n",
       "\n",
       "   host_listings_count  host_total_listings_count  \\\n",
       "0                    1                          1   \n",
       "1                    1                          1   \n",
       "2                    1                          1   \n",
       "3                    1                          1   \n",
       "4                    1                          1   \n",
       "\n",
       "                                  host_verifications host_has_profile_pic  \\\n",
       "0          ['email', 'phone', 'facebook', 'reviews']                    t   \n",
       "1  ['email', 'phone', 'facebook', 'linkedin', 'am...                    t   \n",
       "2             ['email', 'phone', 'reviews', 'jumio']                    t   \n",
       "3                      ['email', 'phone', 'reviews']                    t   \n",
       "4               ['email', 'phone', 'reviews', 'kba']                    t   \n",
       "\n",
       "  host_identity_verified                                             street  \n",
       "0                      f      Birch Street, Boston, MA 02131, United States  \n",
       "1                      t  Pinehurst Street, Boston, MA 02131, United States  \n",
       "2                      t        Ardale St., Boston, MA 02131, United States  \n",
       "3                      f                          Boston, MA, United States  \n",
       "4                      t    Durnell Avenue, Boston, MA 02131, United States  "
      ]
     },
     "execution_count": 15,
     "metadata": {},
     "output_type": "execute_result"
    }
   ],
   "source": [
    "listings.ix[:4,24:35]"
   ]
  },
  {
   "cell_type": "code",
   "execution_count": 16,
   "metadata": {},
   "outputs": [
    {
     "name": "stdout",
     "output_type": "stream",
     "text": [
      "There are various columns with url ... they can be made into different dataframe and used when needed\n"
     ]
    }
   ],
   "source": [
    "print(\"There are various columns with url ... they can be made into different dataframe and used when needed\")"
   ]
  },
  {
   "cell_type": "code",
   "execution_count": 17,
   "metadata": {
    "collapsed": true
   },
   "outputs": [],
   "source": [
    "listing_urls = listings.filter(regex='url')"
   ]
  },
  {
   "cell_type": "code",
   "execution_count": 18,
   "metadata": {},
   "outputs": [
    {
     "name": "stdout",
     "output_type": "stream",
     "text": [
      "Index(['listing_url', 'thumbnail_url', 'medium_url', 'picture_url',\n",
      "       'xl_picture_url', 'host_url', 'host_thumbnail_url', 'host_picture_url'],\n",
      "      dtype='object')\n"
     ]
    }
   ],
   "source": [
    "print(listing_urls.columns)"
   ]
  },
  {
   "cell_type": "code",
   "execution_count": 19,
   "metadata": {},
   "outputs": [
    {
     "name": "stdout",
     "output_type": "stream",
     "text": [
      "The column deleted is : listing_url\n",
      "The column deleted is : thumbnail_url\n",
      "The column deleted is : medium_url\n",
      "The column deleted is : picture_url\n",
      "The column deleted is : xl_picture_url\n",
      "The column deleted is : host_url\n",
      "The column deleted is : host_thumbnail_url\n",
      "The column deleted is : host_picture_url\n",
      "(3585, 75)\n"
     ]
    }
   ],
   "source": [
    "#Delete all url columns from listings\n",
    "delete_columns(listings,listing_urls)\n",
    "print(listings.shape)"
   ]
  },
  {
   "cell_type": "code",
   "execution_count": 20,
   "metadata": {},
   "outputs": [
    {
     "data": {
      "text/html": [
       "<div>\n",
       "<style>\n",
       "    .dataframe thead tr:only-child th {\n",
       "        text-align: right;\n",
       "    }\n",
       "\n",
       "    .dataframe thead th {\n",
       "        text-align: left;\n",
       "    }\n",
       "\n",
       "    .dataframe tbody tr th {\n",
       "        vertical-align: top;\n",
       "    }\n",
       "</style>\n",
       "<table border=\"1\" class=\"dataframe\">\n",
       "  <thead>\n",
       "    <tr style=\"text-align: right;\">\n",
       "      <th></th>\n",
       "      <th>id</th>\n",
       "      <th>name</th>\n",
       "      <th>summary</th>\n",
       "      <th>space</th>\n",
       "      <th>description</th>\n",
       "      <th>neighborhood_overview</th>\n",
       "      <th>notes</th>\n",
       "    </tr>\n",
       "  </thead>\n",
       "  <tbody>\n",
       "    <tr>\n",
       "      <th>0</th>\n",
       "      <td>12147973</td>\n",
       "      <td>Sunny Bungalow in the City</td>\n",
       "      <td>Cozy, sunny, family home.  Master bedroom high...</td>\n",
       "      <td>The house has an open and cozy feel at the sam...</td>\n",
       "      <td>Cozy, sunny, family home.  Master bedroom high...</td>\n",
       "      <td>Roslindale is quiet, convenient and friendly. ...</td>\n",
       "      <td>NaN</td>\n",
       "    </tr>\n",
       "    <tr>\n",
       "      <th>1</th>\n",
       "      <td>3075044</td>\n",
       "      <td>Charming room in pet friendly apt</td>\n",
       "      <td>Charming and quiet room in a second floor 1910...</td>\n",
       "      <td>Small but cozy and quite room with a full size...</td>\n",
       "      <td>Charming and quiet room in a second floor 1910...</td>\n",
       "      <td>The room is in Roslindale, a diverse and prima...</td>\n",
       "      <td>If you don't have a US cell phone, you can tex...</td>\n",
       "    </tr>\n",
       "    <tr>\n",
       "      <th>2</th>\n",
       "      <td>6976</td>\n",
       "      <td>Mexican Folk Art Haven in Boston</td>\n",
       "      <td>Come stay with a friendly, middle-aged guy in ...</td>\n",
       "      <td>Come stay with a friendly, middle-aged guy in ...</td>\n",
       "      <td>Come stay with a friendly, middle-aged guy in ...</td>\n",
       "      <td>The LOCATION: Roslindale is a safe and diverse...</td>\n",
       "      <td>I am in a scenic part of Boston with a couple ...</td>\n",
       "    </tr>\n",
       "    <tr>\n",
       "      <th>3</th>\n",
       "      <td>1436513</td>\n",
       "      <td>Spacious Sunny Bedroom Suite in Historic Home</td>\n",
       "      <td>Come experience the comforts of home away from...</td>\n",
       "      <td>Most places you find in Boston are small howev...</td>\n",
       "      <td>Come experience the comforts of home away from...</td>\n",
       "      <td>Roslindale is a lovely little neighborhood loc...</td>\n",
       "      <td>Please be mindful of the property as it is old...</td>\n",
       "    </tr>\n",
       "    <tr>\n",
       "      <th>4</th>\n",
       "      <td>7651065</td>\n",
       "      <td>Come Home to Boston</td>\n",
       "      <td>My comfy, clean and relaxing home is one block...</td>\n",
       "      <td>Clean, attractive, private room, one block fro...</td>\n",
       "      <td>My comfy, clean and relaxing home is one block...</td>\n",
       "      <td>I love the proximity to downtown, the neighbor...</td>\n",
       "      <td>I have one roommate who lives on the lower lev...</td>\n",
       "    </tr>\n",
       "  </tbody>\n",
       "</table>\n",
       "</div>"
      ],
      "text/plain": [
       "         id                                           name  \\\n",
       "0  12147973                     Sunny Bungalow in the City   \n",
       "1   3075044              Charming room in pet friendly apt   \n",
       "2      6976               Mexican Folk Art Haven in Boston   \n",
       "3   1436513  Spacious Sunny Bedroom Suite in Historic Home   \n",
       "4   7651065                            Come Home to Boston   \n",
       "\n",
       "                                             summary  \\\n",
       "0  Cozy, sunny, family home.  Master bedroom high...   \n",
       "1  Charming and quiet room in a second floor 1910...   \n",
       "2  Come stay with a friendly, middle-aged guy in ...   \n",
       "3  Come experience the comforts of home away from...   \n",
       "4  My comfy, clean and relaxing home is one block...   \n",
       "\n",
       "                                               space  \\\n",
       "0  The house has an open and cozy feel at the sam...   \n",
       "1  Small but cozy and quite room with a full size...   \n",
       "2  Come stay with a friendly, middle-aged guy in ...   \n",
       "3  Most places you find in Boston are small howev...   \n",
       "4  Clean, attractive, private room, one block fro...   \n",
       "\n",
       "                                         description  \\\n",
       "0  Cozy, sunny, family home.  Master bedroom high...   \n",
       "1  Charming and quiet room in a second floor 1910...   \n",
       "2  Come stay with a friendly, middle-aged guy in ...   \n",
       "3  Come experience the comforts of home away from...   \n",
       "4  My comfy, clean and relaxing home is one block...   \n",
       "\n",
       "                               neighborhood_overview  \\\n",
       "0  Roslindale is quiet, convenient and friendly. ...   \n",
       "1  The room is in Roslindale, a diverse and prima...   \n",
       "2  The LOCATION: Roslindale is a safe and diverse...   \n",
       "3  Roslindale is a lovely little neighborhood loc...   \n",
       "4  I love the proximity to downtown, the neighbor...   \n",
       "\n",
       "                                               notes  \n",
       "0                                                NaN  \n",
       "1  If you don't have a US cell phone, you can tex...  \n",
       "2  I am in a scenic part of Boston with a couple ...  \n",
       "3  Please be mindful of the property as it is old...  \n",
       "4  I have one roommate who lives on the lower lev...  "
      ]
     },
     "execution_count": 20,
     "metadata": {},
     "output_type": "execute_result"
    }
   ],
   "source": [
    "listings.ix[:4,:7]"
   ]
  },
  {
   "cell_type": "code",
   "execution_count": 21,
   "metadata": {},
   "outputs": [
    {
     "name": "stdout",
     "output_type": "stream",
     "text": [
      "summary and description seem to give same info. so we drop summary\n",
      "The column deleted is : summary\n",
      "(3585, 74)\n"
     ]
    }
   ],
   "source": [
    "#listings['summary'].equals(listings['description'])\n",
    "\n",
    "listings[\"summary\"][679],listings[\"description\"][679]\n",
    "print(\"summary and description seem to give same info. so we drop summary\")\n",
    "del_df=pd.DataFrame(listings.summary)\n",
    "delete_columns(listings,del_df)\n",
    "print(listings.shape)\n"
   ]
  },
  {
   "cell_type": "code",
   "execution_count": 22,
   "metadata": {},
   "outputs": [
    {
     "name": "stdout",
     "output_type": "stream",
     "text": [
      "(3585, 74)\n"
     ]
    }
   ],
   "source": [
    "print(listings.shape)"
   ]
  },
  {
   "cell_type": "code",
   "execution_count": 23,
   "metadata": {},
   "outputs": [
    {
     "data": {
      "text/html": [
       "<div>\n",
       "<style>\n",
       "    .dataframe thead tr:only-child th {\n",
       "        text-align: right;\n",
       "    }\n",
       "\n",
       "    .dataframe thead th {\n",
       "        text-align: left;\n",
       "    }\n",
       "\n",
       "    .dataframe tbody tr th {\n",
       "        vertical-align: top;\n",
       "    }\n",
       "</style>\n",
       "<table border=\"1\" class=\"dataframe\">\n",
       "  <thead>\n",
       "    <tr style=\"text-align: right;\">\n",
       "      <th></th>\n",
       "    </tr>\n",
       "  </thead>\n",
       "  <tbody>\n",
       "    <tr>\n",
       "      <th>0</th>\n",
       "    </tr>\n",
       "    <tr>\n",
       "      <th>1</th>\n",
       "    </tr>\n",
       "    <tr>\n",
       "      <th>2</th>\n",
       "    </tr>\n",
       "    <tr>\n",
       "      <th>3</th>\n",
       "    </tr>\n",
       "    <tr>\n",
       "      <th>4</th>\n",
       "    </tr>\n",
       "  </tbody>\n",
       "</table>\n",
       "</div>"
      ],
      "text/plain": [
       "Empty DataFrame\n",
       "Columns: []\n",
       "Index: [0, 1, 2, 3, 4]"
      ]
     },
     "execution_count": 23,
     "metadata": {},
     "output_type": "execute_result"
    }
   ],
   "source": [
    "listings.ix[:4,80:81]"
   ]
  },
  {
   "cell_type": "code",
   "execution_count": null,
   "metadata": {
    "collapsed": true
   },
   "outputs": [],
   "source": []
  },
  {
   "cell_type": "code",
   "execution_count": null,
   "metadata": {
    "collapsed": true
   },
   "outputs": [],
   "source": []
  },
  {
   "cell_type": "code",
   "execution_count": 24,
   "metadata": {},
   "outputs": [
    {
     "data": {
      "text/plain": [
       "Index(['id', 'name', 'space', 'description', 'neighborhood_overview', 'notes',\n",
       "       'transit', 'access', 'interaction', 'house_rules', 'host_id',\n",
       "       'host_name', 'host_since', 'host_location', 'host_about',\n",
       "       'host_response_time', 'host_response_rate', 'host_acceptance_rate',\n",
       "       'host_is_superhost', 'host_neighbourhood', 'host_listings_count',\n",
       "       'host_total_listings_count', 'host_verifications',\n",
       "       'host_has_profile_pic', 'host_identity_verified', 'street',\n",
       "       'neighbourhood', 'neighbourhood_cleansed', 'city', 'zipcode', 'market',\n",
       "       'smart_location', 'latitude', 'longitude', 'is_location_exact',\n",
       "       'property_type', 'room_type', 'accommodates', 'bathrooms', 'bedrooms',\n",
       "       'beds', 'bed_type', 'amenities', 'square_feet', 'price', 'weekly_price',\n",
       "       'monthly_price', 'security_deposit', 'cleaning_fee', 'guests_included',\n",
       "       'extra_people', 'minimum_nights', 'maximum_nights', 'calendar_updated',\n",
       "       'availability_30', 'availability_60', 'availability_90',\n",
       "       'availability_365', 'number_of_reviews', 'first_review', 'last_review',\n",
       "       'review_scores_rating', 'review_scores_accuracy',\n",
       "       'review_scores_cleanliness', 'review_scores_checkin',\n",
       "       'review_scores_communication', 'review_scores_location',\n",
       "       'review_scores_value', 'instant_bookable', 'cancellation_policy',\n",
       "       'require_guest_profile_picture', 'require_guest_phone_verification',\n",
       "       'calculated_host_listings_count', 'reviews_per_month'],\n",
       "      dtype='object')"
      ]
     },
     "execution_count": 24,
     "metadata": {},
     "output_type": "execute_result"
    }
   ],
   "source": [
    "listings.columns\n"
   ]
  },
  {
   "cell_type": "code",
   "execution_count": 25,
   "metadata": {},
   "outputs": [
    {
     "name": "stdout",
     "output_type": "stream",
     "text": [
      "listings.columns : \n",
      "\n",
      "Index(['listing_id', 'listing_name', 'space_in_listing', 'listing_description',\n",
      "       'neighborhood_overview', 'notes_to_chk_bfr_stay', 'transit', 'access',\n",
      "       'interaction_with_host', 'house_rules', 'host_id', 'host_name',\n",
      "       'host_since', 'host_location', 'host_about', 'host_response_time',\n",
      "       'host_response_rate', 'host_acceptance_rate', 'host_is_superhost',\n",
      "       'host_neighbourhood', 'host_listings_count',\n",
      "       'host_total_listings_count', 'host_verifications',\n",
      "       'host_has_profile_pic', 'host_identity_verified', 'street',\n",
      "       'neighbourhood', 'neighbourhood_cleansed', 'city', 'zipcode', 'market',\n",
      "       'smart_location', 'latitude', 'longitude', 'is_location_exact',\n",
      "       'property_type', 'room_type', 'accommodates', 'bathrooms', 'bedrooms',\n",
      "       'beds', 'bed_type', 'amenities', 'square_feet', 'price', 'weekly_price',\n",
      "       'monthly_price', 'security_deposit', 'cleaning_fee', 'guests_included',\n",
      "       'extra_people', 'minimum_nights', 'maximum_nights', 'calendar_updated',\n",
      "       'availability_30', 'availability_60', 'availability_90',\n",
      "       'availability_365', 'number_of_reviews', 'first_review', 'last_review',\n",
      "       'review_scores_rating', 'review_scores_accuracy',\n",
      "       'review_scores_cleanliness', 'review_scores_checkin',\n",
      "       'review_scores_communication', 'review_scores_location',\n",
      "       'review_scores_value', 'instant_bookable', 'cancellation_policy',\n",
      "       'require_guest_profile_picture', 'require_guest_phone_verification',\n",
      "       'calculated_host_listings_count', 'reviews_per_month'],\n",
      "      dtype='object')\n",
      "\n",
      "listings.columns : \n",
      "\n",
      "(3585, 74)\n"
     ]
    }
   ],
   "source": [
    "listings.rename(columns={'id': 'listing_id', 'name': 'listing_name' , 'description': 'listing_description',\n",
    "'space':'space_in_listing','notes':'notes_to_chk_bfr_stay','interaction':'interaction_with_host'}, inplace=True)\n",
    "print(\"listings.columns : \"+ '\\n')\n",
    "print(listings.columns)\n",
    "print('\\n'+\"listings.columns : \"+ '\\n')\n",
    "print(listings.shape)"
   ]
  },
  {
   "cell_type": "code",
   "execution_count": 26,
   "metadata": {
    "collapsed": true
   },
   "outputs": [],
   "source": [
    "#listings.interaction.loc[:4]\n",
    "#set(listings.reviews_per_month.values)\n",
    "#listings.ix[:15,'has_availability':'availability_365']"
   ]
  },
  {
   "cell_type": "code",
   "execution_count": 27,
   "metadata": {
    "collapsed": true
   },
   "outputs": [],
   "source": [
    "#create a new dataframe with only text columns and the listing id\n",
    "listings_text_df = listings[['listing_id','space_in_listing','listing_description','neighborhood_overview','notes_to_chk_bfr_stay','transit','access',\n",
    "          'interaction_with_host','house_rules','host_about']].copy()\n",
    "listings_text_del_df = listings[['space_in_listing','listing_description','neighborhood_overview','notes_to_chk_bfr_stay','transit','access',\n",
    "          'interaction_with_host','house_rules','host_about']].copy()"
   ]
  },
  {
   "cell_type": "code",
   "execution_count": 28,
   "metadata": {},
   "outputs": [
    {
     "data": {
      "text/plain": [
       "(3585, 10)"
      ]
     },
     "execution_count": 28,
     "metadata": {},
     "output_type": "execute_result"
    }
   ],
   "source": [
    "listings_text_df.shape"
   ]
  },
  {
   "cell_type": "code",
   "execution_count": 29,
   "metadata": {},
   "outputs": [
    {
     "name": "stdout",
     "output_type": "stream",
     "text": [
      "The column deleted is : space_in_listing\n",
      "The column deleted is : listing_description\n",
      "The column deleted is : neighborhood_overview\n",
      "The column deleted is : notes_to_chk_bfr_stay\n",
      "The column deleted is : transit\n",
      "The column deleted is : access\n",
      "The column deleted is : interaction_with_host\n",
      "The column deleted is : house_rules\n",
      "The column deleted is : host_about\n"
     ]
    }
   ],
   "source": [
    "#remove text columsn from listings\n",
    "delete_columns(listings,listings_text_del_df)"
   ]
  },
  {
   "cell_type": "code",
   "execution_count": 30,
   "metadata": {},
   "outputs": [
    {
     "name": "stdout",
     "output_type": "stream",
     "text": [
      "listings.shape :\n",
      "\n",
      "(3585, 65)\n",
      "listings.columns :\n",
      "\n",
      "Index(['listing_id', 'listing_name', 'host_id', 'host_name', 'host_since',\n",
      "       'host_location', 'host_response_time', 'host_response_rate',\n",
      "       'host_acceptance_rate', 'host_is_superhost', 'host_neighbourhood',\n",
      "       'host_listings_count', 'host_total_listings_count',\n",
      "       'host_verifications', 'host_has_profile_pic', 'host_identity_verified',\n",
      "       'street', 'neighbourhood', 'neighbourhood_cleansed', 'city', 'zipcode',\n",
      "       'market', 'smart_location', 'latitude', 'longitude',\n",
      "       'is_location_exact', 'property_type', 'room_type', 'accommodates',\n",
      "       'bathrooms', 'bedrooms', 'beds', 'bed_type', 'amenities', 'square_feet',\n",
      "       'price', 'weekly_price', 'monthly_price', 'security_deposit',\n",
      "       'cleaning_fee', 'guests_included', 'extra_people', 'minimum_nights',\n",
      "       'maximum_nights', 'calendar_updated', 'availability_30',\n",
      "       'availability_60', 'availability_90', 'availability_365',\n",
      "       'number_of_reviews', 'first_review', 'last_review',\n",
      "       'review_scores_rating', 'review_scores_accuracy',\n",
      "       'review_scores_cleanliness', 'review_scores_checkin',\n",
      "       'review_scores_communication', 'review_scores_location',\n",
      "       'review_scores_value', 'instant_bookable', 'cancellation_policy',\n",
      "       'require_guest_profile_picture', 'require_guest_phone_verification',\n",
      "       'calculated_host_listings_count', 'reviews_per_month'],\n",
      "      dtype='object')\n"
     ]
    }
   ],
   "source": [
    "print(\"listings.shape :\"+'\\n')\n",
    "print(listings.shape)\n",
    "print(\"listings.columns :\"+'\\n')\n",
    "print(listings.columns)"
   ]
  },
  {
   "cell_type": "code",
   "execution_count": 31,
   "metadata": {
    "collapsed": true
   },
   "outputs": [],
   "source": [
    "#how many distinct amenities are there\n",
    "\n",
    "#remove all unwanted string characters\n",
    "listings.amenities=listings['amenities'].str.replace('{','').str.replace('}','').str.replace(\"'\",'').str.replace('\"','')"
   ]
  },
  {
   "cell_type": "code",
   "execution_count": 32,
   "metadata": {},
   "outputs": [
    {
     "name": "stdout",
     "output_type": "stream",
     "text": [
      "{'Dryer', 'Wheelchair Accessible', 'Pets live on this property', 'Wireless Internet', 'Smoke Detector', 'Essentials', 'Cable TV', 'Cat(s)', 'Fire Extinguisher', 'Other pet(s)', 'Shampoo', 'Elevator in Building', 'Iron', 'Laptop Friendly Workspace', 'Free Parking on Premises', 'Kitchen', 'Gym', 'Pool', 'Washer / Dryer', 'Pets Allowed', 'TV', 'Dog(s)', 'First Aid Kit', 'Family/Kid Friendly', 'Air Conditioning', 'Indoor Fireplace', 'Hair Dryer', 'Doorman', 'Breakfast', 'Hot Tub', 'Washer', 'Lock on Bedroom Door', 'Safety Card', 'Paid Parking Off Premises', 'Heating', 'Suitable for Events', 'Buzzer/Wireless Intercom', 'Free Parking on Street', 'Carbon Monoxide Detector', 'Hangers', '24-Hour Check-in', 'Smoking Allowed', 'Internet'}\n"
     ]
    }
   ],
   "source": [
    "am_string=listings.amenities.str.cat(sep=',')\n",
    "am_list= am_string.split(\",\")\n",
    "am_set = set(am_list)\n",
    "am_set.remove('')\n",
    "am_set.remove('translation missing: en.hosting_amenity_50')\n",
    "am_set.remove('translation missing: en.hosting_amenity_49')\n",
    "print(am_set)"
   ]
  },
  {
   "cell_type": "code",
   "execution_count": 33,
   "metadata": {},
   "outputs": [
    {
     "data": {
      "text/plain": [
       "43"
      ]
     },
     "execution_count": 33,
     "metadata": {},
     "output_type": "execute_result"
    }
   ],
   "source": [
    "len(list(am_set))"
   ]
  },
  {
   "cell_type": "code",
   "execution_count": 34,
   "metadata": {},
   "outputs": [
    {
     "name": "stdout",
     "output_type": "stream",
     "text": [
      "square_feet  Has more than  80.0  Percent missing values\n"
     ]
    }
   ],
   "source": [
    "drop_list1 =missing_values_percentage(listings,0.8)"
   ]
  },
  {
   "cell_type": "code",
   "execution_count": 35,
   "metadata": {
    "collapsed": true
   },
   "outputs": [],
   "source": [
    "drop_list2 =missing_values_percentage(listings_text_df,0.8)"
   ]
  },
  {
   "cell_type": "code",
   "execution_count": 36,
   "metadata": {},
   "outputs": [
    {
     "name": "stdout",
     "output_type": "stream",
     "text": [
      "The column deleted is : square_feet\n",
      "(3585, 64)\n"
     ]
    }
   ],
   "source": [
    "#Delete all url columns from listings\n",
    "df_missing_valued=listings[drop_list1]\n",
    "delete_columns(listings,df_missing_valued)\n",
    "print(listings.shape)"
   ]
  },
  {
   "cell_type": "code",
   "execution_count": 37,
   "metadata": {},
   "outputs": [
    {
     "name": "stdout",
     "output_type": "stream",
     "text": [
      "host_is_superhost  : Has binary values :  ['f' 't']\n",
      "host_has_profile_pic  : Has binary values :  ['t' 'f']\n",
      "host_identity_verified  : Has binary values :  ['f' 't']\n",
      "is_location_exact  : Has binary values :  ['t' 'f']\n",
      "instant_bookable  : Has binary values :  ['f' 't']\n",
      "require_guest_profile_picture  : Has binary values :  ['f' 't']\n",
      "require_guest_phone_verification  : Has binary values :  ['f' 't']\n"
     ]
    }
   ],
   "source": [
    "#check for columns that have binary values\n",
    "binary_col_list=check_binary_vals(listings)"
   ]
  },
  {
   "cell_type": "code",
   "execution_count": 38,
   "metadata": {
    "collapsed": true
   },
   "outputs": [],
   "source": [
    "change_obj_to_category(listings,binary_col_list)"
   ]
  },
  {
   "cell_type": "code",
   "execution_count": 39,
   "metadata": {
    "collapsed": true
   },
   "outputs": [],
   "source": [
    "#convert 'f' and 't' values to 0 and 1\n",
    "for col in binary_col_list:\n",
    "    listings[col]=listings[col].map(lambda x: to_binary(x))"
   ]
  },
  {
   "cell_type": "code",
   "execution_count": 40,
   "metadata": {},
   "outputs": [
    {
     "name": "stdout",
     "output_type": "stream",
     "text": [
      "host_is_superhost  : Has binary values :  [0, 1]\n",
      "Categories (2, object): [0, 1]\n",
      "host_has_profile_pic  : Has binary values :  [1, 0]\n",
      "Categories (2, object): [1, 0]\n",
      "host_identity_verified  : Has binary values :  [0, 1]\n",
      "Categories (2, object): [0, 1]\n",
      "is_location_exact  : Has binary values :  [1, 0]\n",
      "Categories (2, object): [1, 0]\n",
      "instant_bookable  : Has binary values :  [0, 1]\n",
      "Categories (2, object): [0, 1]\n",
      "require_guest_profile_picture  : Has binary values :  [0, 1]\n",
      "Categories (2, object): [0, 1]\n",
      "require_guest_phone_verification  : Has binary values :  [0, 1]\n",
      "Categories (2, object): [0, 1]\n"
     ]
    }
   ],
   "source": [
    "binary_col_list=check_binary_vals(listings)"
   ]
  },
  {
   "cell_type": "code",
   "execution_count": 41,
   "metadata": {
    "collapsed": true
   },
   "outputs": [],
   "source": [
    "listings.to_csv('listings_cleaned.csv')"
   ]
  },
  {
   "cell_type": "code",
   "execution_count": 42,
   "metadata": {
    "collapsed": true
   },
   "outputs": [],
   "source": [
    "listings_text_df.to_csv('listings_text_cols.csv')"
   ]
  },
  {
   "cell_type": "code",
   "execution_count": null,
   "metadata": {},
   "outputs": [],
   "source": []
  },
  {
   "cell_type": "code",
   "execution_count": null,
   "metadata": {
    "collapsed": true
   },
   "outputs": [],
   "source": []
  }
 ],
 "metadata": {
  "kernelspec": {
   "display_name": "Python 3",
   "language": "python",
   "name": "python3"
  },
  "language_info": {
   "codemirror_mode": {
    "name": "ipython",
    "version": 3
   },
   "file_extension": ".py",
   "mimetype": "text/x-python",
   "name": "python",
   "nbconvert_exporter": "python",
   "pygments_lexer": "ipython3",
   "version": "3.6.2"
  }
 },
 "nbformat": 4,
 "nbformat_minor": 2
}
